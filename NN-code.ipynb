{
 "cells": [
  {
   "cell_type": "markdown",
   "id": "36d7b4a2",
   "metadata": {},
   "source": [
    "# I200455, Sameer Tahir, Assignment 4"
   ]
  },
  {
   "cell_type": "code",
   "execution_count": 2,
   "id": "07025758",
   "metadata": {},
   "outputs": [],
   "source": [
    "import pandas as pd\n",
    "import numpy as np\n",
    "import random\n",
    "import copy"
   ]
  },
  {
   "cell_type": "code",
   "execution_count": 3,
   "id": "8b8932f7",
   "metadata": {},
   "outputs": [],
   "source": [
    "data = pd.read_csv(\"Iris.csv\")"
   ]
  },
  {
   "cell_type": "code",
   "execution_count": 4,
   "id": "5cf5965c",
   "metadata": {},
   "outputs": [
    {
     "data": {
      "text/html": [
       "<div>\n",
       "<style scoped>\n",
       "    .dataframe tbody tr th:only-of-type {\n",
       "        vertical-align: middle;\n",
       "    }\n",
       "\n",
       "    .dataframe tbody tr th {\n",
       "        vertical-align: top;\n",
       "    }\n",
       "\n",
       "    .dataframe thead th {\n",
       "        text-align: right;\n",
       "    }\n",
       "</style>\n",
       "<table border=\"1\" class=\"dataframe\">\n",
       "  <thead>\n",
       "    <tr style=\"text-align: right;\">\n",
       "      <th></th>\n",
       "      <th>Id</th>\n",
       "      <th>SepalLengthCm</th>\n",
       "      <th>SepalWidthCm</th>\n",
       "      <th>PetalLengthCm</th>\n",
       "      <th>PetalWidthCm</th>\n",
       "      <th>Species</th>\n",
       "    </tr>\n",
       "  </thead>\n",
       "  <tbody>\n",
       "    <tr>\n",
       "      <th>0</th>\n",
       "      <td>1</td>\n",
       "      <td>5.1</td>\n",
       "      <td>3.5</td>\n",
       "      <td>1.4</td>\n",
       "      <td>0.2</td>\n",
       "      <td>Iris-setosa</td>\n",
       "    </tr>\n",
       "    <tr>\n",
       "      <th>1</th>\n",
       "      <td>2</td>\n",
       "      <td>4.9</td>\n",
       "      <td>3.0</td>\n",
       "      <td>1.4</td>\n",
       "      <td>0.2</td>\n",
       "      <td>Iris-setosa</td>\n",
       "    </tr>\n",
       "    <tr>\n",
       "      <th>2</th>\n",
       "      <td>3</td>\n",
       "      <td>4.7</td>\n",
       "      <td>3.2</td>\n",
       "      <td>1.3</td>\n",
       "      <td>0.2</td>\n",
       "      <td>Iris-setosa</td>\n",
       "    </tr>\n",
       "    <tr>\n",
       "      <th>3</th>\n",
       "      <td>4</td>\n",
       "      <td>4.6</td>\n",
       "      <td>3.1</td>\n",
       "      <td>1.5</td>\n",
       "      <td>0.2</td>\n",
       "      <td>Iris-setosa</td>\n",
       "    </tr>\n",
       "    <tr>\n",
       "      <th>4</th>\n",
       "      <td>5</td>\n",
       "      <td>5.0</td>\n",
       "      <td>3.6</td>\n",
       "      <td>1.4</td>\n",
       "      <td>0.2</td>\n",
       "      <td>Iris-setosa</td>\n",
       "    </tr>\n",
       "  </tbody>\n",
       "</table>\n",
       "</div>"
      ],
      "text/plain": [
       "   Id  SepalLengthCm  SepalWidthCm  PetalLengthCm  PetalWidthCm      Species\n",
       "0   1            5.1           3.5            1.4           0.2  Iris-setosa\n",
       "1   2            4.9           3.0            1.4           0.2  Iris-setosa\n",
       "2   3            4.7           3.2            1.3           0.2  Iris-setosa\n",
       "3   4            4.6           3.1            1.5           0.2  Iris-setosa\n",
       "4   5            5.0           3.6            1.4           0.2  Iris-setosa"
      ]
     },
     "execution_count": 4,
     "metadata": {},
     "output_type": "execute_result"
    }
   ],
   "source": [
    "data.head()"
   ]
  },
  {
   "cell_type": "code",
   "execution_count": 5,
   "id": "92edd333",
   "metadata": {},
   "outputs": [],
   "source": [
    "data.drop(columns=['Id'],inplace=True)"
   ]
  },
  {
   "cell_type": "markdown",
   "id": "f737044a",
   "metadata": {},
   "source": [
    "### Mapping Species"
   ]
  },
  {
   "cell_type": "code",
   "execution_count": 6,
   "id": "73df5c01",
   "metadata": {},
   "outputs": [],
   "source": [
    "unique = data['Species'].unique()\n",
    "\n",
    "dic= {}\n",
    "\n",
    "for i,v in enumerate(unique):\n",
    "    dic[v]=i\n",
    "\n",
    "data['Species'] = data['Species'].map(dic)"
   ]
  },
  {
   "cell_type": "code",
   "execution_count": 7,
   "id": "b9180377",
   "metadata": {},
   "outputs": [
    {
     "data": {
      "text/html": [
       "<div>\n",
       "<style scoped>\n",
       "    .dataframe tbody tr th:only-of-type {\n",
       "        vertical-align: middle;\n",
       "    }\n",
       "\n",
       "    .dataframe tbody tr th {\n",
       "        vertical-align: top;\n",
       "    }\n",
       "\n",
       "    .dataframe thead th {\n",
       "        text-align: right;\n",
       "    }\n",
       "</style>\n",
       "<table border=\"1\" class=\"dataframe\">\n",
       "  <thead>\n",
       "    <tr style=\"text-align: right;\">\n",
       "      <th></th>\n",
       "      <th>SepalLengthCm</th>\n",
       "      <th>SepalWidthCm</th>\n",
       "      <th>PetalLengthCm</th>\n",
       "      <th>PetalWidthCm</th>\n",
       "      <th>Species</th>\n",
       "    </tr>\n",
       "  </thead>\n",
       "  <tbody>\n",
       "    <tr>\n",
       "      <th>0</th>\n",
       "      <td>5.1</td>\n",
       "      <td>3.5</td>\n",
       "      <td>1.4</td>\n",
       "      <td>0.2</td>\n",
       "      <td>0</td>\n",
       "    </tr>\n",
       "    <tr>\n",
       "      <th>1</th>\n",
       "      <td>4.9</td>\n",
       "      <td>3.0</td>\n",
       "      <td>1.4</td>\n",
       "      <td>0.2</td>\n",
       "      <td>0</td>\n",
       "    </tr>\n",
       "    <tr>\n",
       "      <th>2</th>\n",
       "      <td>4.7</td>\n",
       "      <td>3.2</td>\n",
       "      <td>1.3</td>\n",
       "      <td>0.2</td>\n",
       "      <td>0</td>\n",
       "    </tr>\n",
       "    <tr>\n",
       "      <th>3</th>\n",
       "      <td>4.6</td>\n",
       "      <td>3.1</td>\n",
       "      <td>1.5</td>\n",
       "      <td>0.2</td>\n",
       "      <td>0</td>\n",
       "    </tr>\n",
       "    <tr>\n",
       "      <th>4</th>\n",
       "      <td>5.0</td>\n",
       "      <td>3.6</td>\n",
       "      <td>1.4</td>\n",
       "      <td>0.2</td>\n",
       "      <td>0</td>\n",
       "    </tr>\n",
       "  </tbody>\n",
       "</table>\n",
       "</div>"
      ],
      "text/plain": [
       "   SepalLengthCm  SepalWidthCm  PetalLengthCm  PetalWidthCm  Species\n",
       "0            5.1           3.5            1.4           0.2        0\n",
       "1            4.9           3.0            1.4           0.2        0\n",
       "2            4.7           3.2            1.3           0.2        0\n",
       "3            4.6           3.1            1.5           0.2        0\n",
       "4            5.0           3.6            1.4           0.2        0"
      ]
     },
     "execution_count": 7,
     "metadata": {},
     "output_type": "execute_result"
    }
   ],
   "source": [
    "data.head()"
   ]
  },
  {
   "cell_type": "markdown",
   "id": "9d541afc",
   "metadata": {},
   "source": [
    "## Spliting Dataset"
   ]
  },
  {
   "cell_type": "code",
   "execution_count": 8,
   "id": "3d48eb29",
   "metadata": {},
   "outputs": [],
   "source": [
    "def Split(data,ratio):\n",
    "    \n",
    "    np.random.shuffle(data)\n",
    "    \n",
    "    X = data[:,:-1]\n",
    "    Y = data[:,-1]\n",
    "    \n",
    "    samples = int(data.shape[0]*ratio)\n",
    "   \n",
    "    \n",
    "    X_train = X[:samples,:]\n",
    "    \n",
    "    X_test = X[samples:,:]\n",
    "    \n",
    "    Y_train = Y[:samples]\n",
    "    Y_test = Y[samples:]\n",
    "            \n",
    "    return (X_train,X_test,Y_train,Y_test)"
   ]
  },
  {
   "cell_type": "code",
   "execution_count": 9,
   "id": "a7a0ce8b",
   "metadata": {},
   "outputs": [],
   "source": [
    "X_train,X_test,Y_train,Y_test = Split(data.to_numpy(),0.7)"
   ]
  },
  {
   "cell_type": "code",
   "execution_count": 40,
   "id": "fe56a7e3",
   "metadata": {},
   "outputs": [],
   "source": [
    "Y_test = Y_test.reshape(-1,1)"
   ]
  },
  {
   "cell_type": "code",
   "execution_count": 41,
   "id": "c2c13b67",
   "metadata": {},
   "outputs": [
    {
     "data": {
      "text/plain": [
       "(105, 4)"
      ]
     },
     "execution_count": 41,
     "metadata": {},
     "output_type": "execute_result"
    }
   ],
   "source": [
    "X_train.shape"
   ]
  },
  {
   "cell_type": "markdown",
   "id": "e557995c",
   "metadata": {},
   "source": [
    "## Neural Network Model"
   ]
  },
  {
   "cell_type": "code",
   "execution_count": 72,
   "id": "e04af418",
   "metadata": {},
   "outputs": [],
   "source": [
    "class NeuralNetwork:\n",
    "    \n",
    "    def __init__(self, X_train, Y_train, hidden_layers, lst_nodes, lr, epochs):\n",
    "        \n",
    "        self.hidden_layers = hidden_layers\n",
    "        self.lr=lr\n",
    "        self.epochs = epochs\n",
    "        self.lst_nodes = lst_nodes.copy()\n",
    "        self.X_train = X_train\n",
    "        self.Y_train = Y_train.reshape(-1,1).astype(int)\n",
    "        \n",
    "        \n",
    "        input_nodes = X_train.shape[1]\n",
    "#         print(\"Input Nodes:\", input_nodes)\n",
    "        \n",
    "        \n",
    "        # Initlised Weights and Bias\n",
    "        self.parameters = self.initilise_parameters()\n",
    "        \n",
    "        for i in range(1,len(self.lst_nodes)):\n",
    "            print( self.parameters[f'W{i}'].shape )\n",
    "        \n",
    "            \n",
    "\n",
    "        self.train()\n",
    "        \n",
    "        \n",
    "    \n",
    "    \n",
    "    def initilise_parameters(self):\n",
    "        parameters = {}\n",
    "        \n",
    "        for i in range(1,len(self.lst_nodes)):\n",
    "            print(self.lst_nodes[i-1],self.lst_nodes[i])\n",
    "            parameters[f'W{i}'] = np.random.uniform(low=0,high=1,size = (self.lst_nodes[i-1],self.lst_nodes[i]))\n",
    "            parameters[f'b{i}'] = np.random.uniform(low=0,high=1,size = (1,self.lst_nodes[i]))\n",
    "                \n",
    "            \n",
    "            \n",
    "        return parameters\n",
    "                                                          \n",
    "     \n",
    "    def train(self):\n",
    "        \n",
    "            \n",
    "        # Training\n",
    "        for i in range(self.epochs):\n",
    "            #forward propagation\n",
    "            final_output,logits_dic = self.forward_pass()\n",
    "            \n",
    "            #loss\n",
    "            loss,derv = self.loss_function(final_output ,self.Y_train)\n",
    "            \n",
    "            if(i%100 ==0):\n",
    "                print(f\"Loss after iteration {i} {loss}\")\n",
    "            \n",
    "            #backward pass\n",
    "            gradients = self.backward_pass(final_output,logits_dic)\n",
    "            \n",
    "            #update parameters\n",
    "            self.gradient_decent(gradients)\n",
    "        \n",
    "        \n",
    "\n",
    "        \n",
    "        \n",
    "      # Z is X*W + B\n",
    "        # A is Relu(Z)\n",
    "    def forward_pass(self):\n",
    "        \n",
    "        cache = {}\n",
    "        \n",
    "        cache['A0'] = self.X_train.copy()\n",
    "        \n",
    "        \n",
    "        for i in range(1,len(self.lst_nodes)-1):\n",
    "            \n",
    "            # calculate Z\n",
    "            cache[f'Z{i}'] = np.dot(cache[f'A{i-1}'], self.parameters[f'W{i}']) + self.parameters[f'b{i}']\n",
    "            #calculate A\n",
    "            cache[f'A{i}'] = self.Relu(cache[f'Z{i}'])\n",
    "            print(\"halo\")\n",
    "            \n",
    "            \n",
    "        cache[f'Z{ len(self.lst_nodes)-1 }'] = np.dot(cache[f'A{ len(self.lst_nodes)-2 }'], self.parameters[f'W{len(self.lst_nodes)-1}']) + self.parameters[f'b{len(self.lst_nodes)-1}']\n",
    "        cache[f'A{len(self.lst_nodes)-1}']  = cache[f'Z{ len(self.lst_nodes)-1 }'].copy()  \n",
    "            \n",
    "        return (cache[f'A{len(self.lst_nodes)-1}'],cache)\n",
    "    \n",
    "    \n",
    "    def backward_pass(self,last,logits_dic):\n",
    "        \n",
    "        gradient = {}\n",
    "        L = len(self.lst_nodes)-1\n",
    "        m=self.Y_train.shape[0]\n",
    "        \n",
    "        gradient[f\"dZ{L}\"] = last - self.Y_train\n",
    "        gradient[f\"dW{L}\"] = np.dot(logits_dic[f\"A{L-1}\"].T , gradient[f\"dZ{L}\"])\n",
    "        gradient[f\"db{L}\"] = np.sum( gradient[f\"dZ{L}\"], axis=1, keepdims = True )\n",
    "        \n",
    "        \n",
    "        \n",
    "        for i in reversed(range(1,L)):\n",
    "            print(f\"Inside back loop{i}\",np.dot(gradient[f'dZ{i+1}'], self.parameters[f\"W{i+1}\"].T).shape )\n",
    "            \n",
    "            gradient[f\"dZ{i}\"] = np.dot(gradient[f'dZ{i+1}'] ,self.parameters[f\"W{i+1}\"].T) * self.derivative_relu(logits_dic[f\"A{i}\"])\n",
    "            gradient[f\"dW{i}\"] = np.dot(logits_dic[f\"A{i}\"].T , gradient[f\"dZ{i}\"])\n",
    "            gradient[f\"db{i}\"] = np.sum( gradient[f\"dZ{i}\"], axis=1, keepdims = True )\n",
    "        \n",
    "        \n",
    "        return gradient\n",
    "        \n",
    "        \n",
    "    \n",
    "    \n",
    "    def loss_function(self , logits , y):\n",
    "        \n",
    "        diff = logits - np.array([logits[np.arange(y.shape[0]) , y.flatten()]]).T\n",
    "        \n",
    "        diff[diff < 0] = 0\n",
    "        loss = np.sum(diff)\n",
    "        \n",
    "        diff = np.squeeze(diff)\n",
    "        # Derivative\n",
    "        diff[diff > 0] = 1\n",
    "        diff[np.arange(y.shape[0]) , y] = -1 * np.sum(diff , axis = 1)\n",
    "        return (loss, diff)\n",
    "    \n",
    "    \n",
    "    def gradient_decent(self,gradients):\n",
    "        old_parameters = self.parameters.copy()\n",
    "        \n",
    "        for i in range(1,len(self.lst_nodes)+1):\n",
    "            self.parameters[f'W{i}'] = old_parameters[f'W{i}'] - self.lr * gradients[f'dW{i}']\n",
    "            self.parameters[f'b{i}'] = old_parameters[f'b{i}'] - self.lr * gradients[f'db{i}']\n",
    "            \n",
    "    \n",
    "    def Relu(self,value):\n",
    "            return np.maximum(0, value)\n",
    "    \n",
    "    def derivative_relu(self,x):\n",
    "        return np.array(x>0 , dtype = 'float')\n",
    "    \n",
    "    def get_parameters(self):\n",
    "        return self.parameters\n",
    "    "
   ]
  },
  {
   "cell_type": "code",
   "execution_count": 71,
   "id": "2169fde7",
   "metadata": {},
   "outputs": [
    {
     "name": "stdout",
     "output_type": "stream",
     "text": [
      "4 5\n",
      "5 2\n",
      "2 3\n",
      "(4, 5)\n",
      "(5, 2)\n",
      "(2, 3)\n",
      "halo\n",
      "halo\n",
      "Inside back loop2 (105, 2)\n",
      "Inside back loop1 (105, 5)\n",
      "(5, 5)\n",
      "(2, 2)\n",
      "(2, 3)\n"
     ]
    }
   ],
   "source": [
    "nn = NeuralNetwork(X_train,Y_train,4,[X_train.shape[1] ,5,2, 3],0.0001,1000)"
   ]
  },
  {
   "cell_type": "code",
   "execution_count": null,
   "id": "bc3b7a94",
   "metadata": {},
   "outputs": [],
   "source": []
  },
  {
   "cell_type": "code",
   "execution_count": null,
   "id": "fab6b89f",
   "metadata": {},
   "outputs": [],
   "source": []
  },
  {
   "cell_type": "code",
   "execution_count": null,
   "id": "9e745b9c",
   "metadata": {},
   "outputs": [],
   "source": []
  },
  {
   "cell_type": "code",
   "execution_count": null,
   "id": "a9d7473f",
   "metadata": {},
   "outputs": [],
   "source": []
  },
  {
   "cell_type": "code",
   "execution_count": null,
   "id": "c3228db3",
   "metadata": {},
   "outputs": [],
   "source": []
  },
  {
   "cell_type": "code",
   "execution_count": 36,
   "id": "85a7582c",
   "metadata": {},
   "outputs": [
    {
     "data": {
      "text/plain": [
       "array([0., 1., 1., 0., 0., 1., 0., 1., 2., 0., 1., 0., 0., 2., 0., 0., 2.,\n",
       "       0., 0., 2., 1., 1., 0., 2., 1., 2., 1., 2., 0., 0., 2., 2., 2., 0.,\n",
       "       2., 0., 1., 0., 0., 0., 2., 1., 0., 0., 0., 2., 0., 1., 1., 2., 0.,\n",
       "       1., 2., 2., 2., 0., 1., 2., 1., 2., 1., 1., 0., 0., 1., 2., 1., 1.,\n",
       "       2., 2., 2., 2., 2., 2., 0., 1., 1., 0., 2., 1., 2., 0., 1., 1., 1.,\n",
       "       2., 2., 2., 0., 1., 1., 2., 1., 0., 1., 1., 0., 0., 2., 0., 2., 1.,\n",
       "       2., 1., 2.])"
      ]
     },
     "execution_count": 36,
     "metadata": {},
     "output_type": "execute_result"
    }
   ],
   "source": [
    "Y_train"
   ]
  },
  {
   "cell_type": "code",
   "execution_count": null,
   "id": "31c94e45",
   "metadata": {},
   "outputs": [],
   "source": []
  }
 ],
 "metadata": {
  "kernelspec": {
   "display_name": "Python 3 (ipykernel)",
   "language": "python",
   "name": "python3"
  },
  "language_info": {
   "codemirror_mode": {
    "name": "ipython",
    "version": 3
   },
   "file_extension": ".py",
   "mimetype": "text/x-python",
   "name": "python",
   "nbconvert_exporter": "python",
   "pygments_lexer": "ipython3",
   "version": "3.9.17"
  }
 },
 "nbformat": 4,
 "nbformat_minor": 5
}
